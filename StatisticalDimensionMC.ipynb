{
  "nbformat": 4,
  "nbformat_minor": 0,
  "metadata": {
    "colab": {
      "name": "StatisticalDimensionMC.ipynb",
      "provenance": [],
      "collapsed_sections": [],
      "authorship_tag": "ABX9TyMgZNGBC8x8jFGuin+cSSsr",
      "include_colab_link": true
    },
    "kernelspec": {
      "name": "python3",
      "display_name": "Python 3"
    },
    "accelerator": "GPU"
  },
  "cells": [
    {
      "cell_type": "markdown",
      "metadata": {
        "id": "view-in-github",
        "colab_type": "text"
      },
      "source": [
        "<a href=\"https://colab.research.google.com/github/laffertyryan0/statistical-dimension/blob/main/StatisticalDimensionMC.ipynb\" target=\"_parent\"><img src=\"https://colab.research.google.com/assets/colab-badge.svg\" alt=\"Open In Colab\"/></a>"
      ]
    },
    {
      "cell_type": "code",
      "metadata": {
        "id": "URHOw8hyljMJ"
      },
      "source": [
        "import tensorflow as tf\n",
        "import numpy as np\n",
        "import matplotlib.pyplot as plt\n",
        "import math\n",
        "\n",
        "def projPD_old(x):\n",
        "  e,v = tf.linalg.eigh(x)\n",
        "  d = tf.linalg.diag(tf.nn.relu(tf.math.real(e)))\n",
        "  out = v@d@tf.transpose(v,[0,2,1])\n",
        "  return (out + tf.transpose(out,perm = [0,2,1]))/2\n",
        "\n",
        "def projPD(x):\n",
        "  Lx = x + (-1 + math.sqrt(2))*tf.linalg.diag(tf.linalg.diag_part(x))\n",
        "  PLx = projPD_old(Lx)\n",
        "  out = PLx + (-1 + 1/math.sqrt(2))*tf.linalg.diag(tf.linalg.diag_part(PLx))\n",
        "  return out\n",
        "\n",
        "def projZG(A):\n",
        "  A = tf.cast(A,tf.float32)\n",
        "  return lambda x:tf.math.multiply(x,A)\n",
        "\n",
        "def randsymmats(n,depth = 1000):\n",
        "  Z = tf.random.normal((depth,n,n))\n",
        "  diag = tf.linalg.diag(tf.linalg.diag_part(Z))\n",
        "  rest = tf.linalg.band_part(Z,-1,0) - diag\n",
        "  Z = rest + tf.transpose(rest,perm=[0,2,1])+diag\n",
        "  return(Z)\n",
        "\n",
        "def dykstra(pC,pD,x0,niter = 1000):\n",
        "  d = tf.shape(x0)\n",
        "  xk = tf.zeros(d)\n",
        "  yk = tf.zeros(d)\n",
        "  wk = x0\n",
        "  for i in range(niter):\n",
        "    xkp1 = pC(wk)\n",
        "    ykp1 = pD(xkp1)\n",
        "    wkp1 = wk - (xkp1 - ykp1)\n",
        "    xk = xkp1\n",
        "    yk = ykp1\n",
        "    wk = wkp1\n",
        "  return(xk)\n",
        "\n",
        "def statdim(A, nreps = 1000):\n",
        "  ssum = 0\n",
        "  n = tf.shape(A)[0]\n",
        "  pC = projPD\n",
        "  pD = projZG(A)\n",
        "  picz = dykstra(pC,pD,randsymmats(n,nreps))\n",
        "  picz2 = tf.math.square(picz)\n",
        "  symnorm = tf.reduce_sum(tf.linalg.band_part(picz2,-1,0))\n",
        "  return symnorm/nreps\n",
        "\n"
      ],
      "execution_count": 2,
      "outputs": []
    },
    {
      "cell_type": "code",
      "metadata": {
        "id": "-5fzmeBYx-bB",
        "outputId": "f549c8bf-66aa-4e00-b32e-175a8945bd00",
        "colab": {
          "base_uri": "https://localhost:8080/",
          "height": 282
        }
      },
      "source": [
        "def chainGraph(n):\n",
        "  A = np.zeros((n,n))\n",
        "  for i in range(n):\n",
        "    for j in range(n):\n",
        "      if(i == j or abs(i-j)==1):\n",
        "        A[i,j] = 1\n",
        "  return tf.constant(A)\n",
        "\n",
        "k = 30\n",
        "x = np.arange(k)\n",
        "y = np.zeros(k)\n",
        "for i in x:\n",
        "  y[i] = statdim(chainGraph(i))\n",
        "\n",
        "plt.scatter(x,y)"
      ],
      "execution_count": 6,
      "outputs": [
        {
          "output_type": "execute_result",
          "data": {
            "text/plain": [
              "<matplotlib.collections.PathCollection at 0x7f2de314f780>"
            ]
          },
          "metadata": {
            "tags": []
          },
          "execution_count": 6
        },
        {
          "output_type": "display_data",
          "data": {
            "image/png": "[encoded data removed]",
            "text/plain": [
              "<Figure size 432x288 with 1 Axes>"
            ]
          },
          "metadata": {
            "tags": [],
            "needs_background": "light"
          }
        }
      ]
    },
    {
      "cell_type": "code",
      "metadata": {
        "id": "AvTFpjYXH7ot",
        "outputId": "372c6826-87af-4b6a-e64e-c6a34239af2c",
        "colab": {
          "base_uri": "https://localhost:8080/"
        }
      },
      "source": [
        "from scipy import stats\n",
        "\n",
        "stats.linregress(x,y)"
      ],
      "execution_count": 7,
      "outputs": [
        {
          "output_type": "execute_result",
          "data": {
            "text/plain": [
              "LinregressResult(slope=0.9340992651473692, intercept=-0.3245612393143329, rvalue=0.9997460654462206, pvalue=1.1332880449846107e-47, stderr=0.003978988070362376)"
            ]
          },
          "metadata": {
            "tags": []
          },
          "execution_count": 7
        }
      ]
    },
    {
      "cell_type": "code",
      "metadata": {
        "id": "Ylbuxm-JO1C_",
        "outputId": "a407f0cf-3b94-488a-803e-eae5364c43fb",
        "colab": {
          "base_uri": "https://localhost:8080/",
          "height": 282
        }
      },
      "source": [
        "def cycleGraph(n):\n",
        "  A = np.zeros((n,n))\n",
        "  for i in range(n):\n",
        "    for j in range(n):\n",
        "      if(i == j or abs(i-j)==1 or (set([i,j])==set([0,n-1]))):\n",
        "        A[i,j] = 1\n",
        "  return tf.constant(A)\n",
        "\n",
        "k = 30\n",
        "x = np.arange(k)\n",
        "y = np.zeros(k)\n",
        "for i in x:\n",
        "  y[i] = statdim(cycleGraph(i),nreps = 1000)\n",
        "\n",
        "plt.scatter(x,y)"
      ],
      "execution_count": 10,
      "outputs": [
        {
          "output_type": "execute_result",
          "data": {
            "text/plain": [
              "<matplotlib.collections.PathCollection at 0x7f2de2f8d9b0>"
            ]
          },
          "metadata": {
            "tags": []
          },
          "execution_count": 10
        },
        {
          "output_type": "display_data",
          "data": {
            "image/png": "[encoded data removed]",
            "text/plain": [
              "<Figure size 432x288 with 1 Axes>"
            ]
          },
          "metadata": {
            "tags": [],
            "needs_background": "light"
          }
        }
      ]
    },
    {
      "cell_type": "code",
      "metadata": {
        "id": "jjk4ayPJcPxz",
        "outputId": "6b9cdbf8-0a25-47ee-9718-b9e968e54f24",
        "colab": {
          "base_uri": "https://localhost:8080/"
        }
      },
      "source": [
        "\n",
        "stats.linregress(x,y)"
      ],
      "execution_count": 11,
      "outputs": [
        {
          "output_type": "execute_result",
          "data": {
            "text/plain": [
              "LinregressResult(slope=0.942026467424081, intercept=-0.07353590714034475, rvalue=0.9997603930057448, pvalue=5.0265004387877625e-48, stderr=0.003897865853908969)"
            ]
          },
          "metadata": {
            "tags": []
          },
          "execution_count": 11
        }
      ]
    },
    {
      "cell_type": "code",
      "metadata": {
        "id": "sY64bdXWZqXU",
        "outputId": "f2fa26cd-cf9f-4424-8f79-6b370ca105cd",
        "colab": {
          "base_uri": "https://localhost:8080/"
        }
      },
      "source": [
        "A1 = tf.constant([[1,0,0,0,1],[0,1,0,0,1],[0,0,1,0,1],[0,0,0,1,1],[1,1,1,1,1]])\n",
        "A2 = tf.constant([[1,1,0,0,0],[0,1,1,0,0],[0,0,1,1,0],[1,0,0,1,0],[0,0,0,0,1]])\n",
        "print(statdim(A1,100))"
      ],
      "execution_count": 4,
      "outputs": [
        {
          "output_type": "stream",
          "text": [
            "tf.Tensor(4.180205, shape=(), dtype=float32)\n"
          ],
          "name": "stdout"
        }
      ]
    },
    {
      "cell_type": "code",
      "metadata": {
        "id": "jdndvcswWHh9",
        "outputId": "077be6af-d618-4696-9625-26508907cb49",
        "colab": {
          "base_uri": "https://localhost:8080/",
          "height": 282
        }
      },
      "source": [
        "def starGraph(n):\n",
        "  A = np.zeros((n,n))\n",
        "  for i in range(n):\n",
        "    for j in range(n):\n",
        "      if(i == j or j==n-1 or i==n-1):\n",
        "        A[i,j] = 1\n",
        "  return tf.constant(A)\n",
        "\n",
        "k = 30\n",
        "x = np.arange(k)\n",
        "y = np.zeros(k)\n",
        "for i in x:\n",
        "  y[i] = statdim(starGraph(i),nreps = 1000)\n",
        "\n",
        "plt.scatter(x,y)"
      ],
      "execution_count": 16,
      "outputs": [
        {
          "output_type": "execute_result",
          "data": {
            "text/plain": [
              "<matplotlib.collections.PathCollection at 0x7f2de2e6aba8>"
            ]
          },
          "metadata": {
            "tags": []
          },
          "execution_count": 16
        },
        {
          "output_type": "display_data",
          "data": {
            "image/png": "[encoded data removed]",
            "text/plain": [
              "<Figure size 432x288 with 1 Axes>"
            ]
          },
          "metadata": {
            "tags": [],
            "needs_background": "light"
          }
        }
      ]
    },
    {
      "cell_type": "code",
      "metadata": {
        "id": "p6hIJiSjjukR",
        "outputId": "c3e03f2b-61b1-4da3-8705-8d47cf21d01f",
        "colab": {
          "base_uri": "https://localhost:8080/"
        }
      },
      "source": [
        "stats.linregress(x,y)"
      ],
      "execution_count": 17,
      "outputs": [
        {
          "output_type": "execute_result",
          "data": {
            "text/plain": [
              "LinregressResult(slope=0.7755227754524472, intercept=0.3489813799499206, rvalue=0.9988847476219299, pvalue=1.1199259011786763e-38, stderr=0.006927565093945265)"
            ]
          },
          "metadata": {
            "tags": []
          },
          "execution_count": 17
        }
      ]
    },
    {
      "cell_type": "code",
      "metadata": {
        "id": "9vTuGNMIp5Si"
      },
      "source": [
        "def chainGraph(n):\n",
        "  A = np.zeros((n,n))\n",
        "  for i in range(n):\n",
        "    for j in range(n):\n",
        "      if(i == j or abs(i-j)==1):\n",
        "        A[i,j] = 1\n",
        "  return tf.constant(A)\n",
        "\n",
        "k = 5\n",
        "x = np.arange(k)\n",
        "y = np.zeros(k)\n",
        "for i in x:\n",
        "  y[i] = statdim(chainGraph(100*i),100)\n",
        "\n",
        "plt.scatter(x,y)"
      ],
      "execution_count": null,
      "outputs": []
    }
  ]
}